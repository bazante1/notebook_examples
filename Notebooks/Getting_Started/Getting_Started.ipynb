{
 "cells": [
  {
   "cell_type": "markdown",
   "metadata": {},
   "source": [
    "The best way to get started with a scientific python stack is to install [Anaconda](https://www.continuum.io/downloads). See the [installation instructions](http://docs.continuum.io/anaconda/install) for additional assistance.\n",
    "\n",
    "\n",
    "\n",
    "\n",
    "Once you have installed and activated your anaconda environment, OpenEye Toolkits can be installed through the following command\n",
    "    \n",
    "    pip install -i https://pypi.anaconda.org/OpenEye/simple OpenEye-toolkits\n",
    "    \n",
    "Refer to our [Python Toolkit documentation](http://docs.eyesopen.com/toolkits/python/) for further information, specifically for making a [license available](http://docs.eyesopen.com/toolkits/python/quickstart-python/license.html)."
   ]
  },
  {
   "cell_type": "code",
   "execution_count": 1,
   "metadata": {},
   "outputs": [
    {
     "data": {
      "text/plain": [
       "True"
      ]
     },
     "execution_count": 1,
     "metadata": {},
     "output_type": "execute_result"
    }
   ],
   "source": [
    "from openeye.oechem import OEChemIsLicensed\n",
    "\n",
    "OEChemIsLicensed()"
   ]
  },
  {
   "cell_type": "markdown",
   "metadata": {},
   "source": [
    "The **OENotebook** library which provides convenience functions for using OEToolkits in the Jupyter Notebook can be installed with the following command:\n",
    "\n",
    "    pip install --pre --extra-index-url https://pypi.anaconda.org/OpenEye/channel/beta/simple OpenEye-oenotebook"
   ]
  },
  {
   "cell_type": "code",
   "execution_count": 2,
   "metadata": {},
   "outputs": [
    {
     "data": {
      "text/html": [
       "<link href='http://fonts.googleapis.com/css?family=PT+Mono' rel='stylesheet' type='text/css'>\n",
       "\n",
       "<style>\n",
       "\n",
       "@font-face {\n",
       "    font-family: \"Computer Modern\";\n",
       "    src: url('http://mirrors.ctan.org/fonts/cm-unicode/fonts/otf/cmunss.otf');\n",
       "}\n",
       "\n",
       "/* draw border around running cells */\n",
       "div.cell.code_cell.rendered.running {\n",
       "\t    border: 5px solid rgb(24, 25, 131);\n",
       "}\n",
       "\n",
       "/* Put a solid color box around each cell and its output, visually linking them together */\n",
       "div.cell.code_cell {\n",
       "\tbackground-color: rgba(117,170,170,0.2);\n",
       "\tborder-radius: 10px; /* rounded borders */\n",
       "    padding: 1em;\n",
       "    margin-top: 1em;\n",
       "}\n",
       "\n",
       "\n",
       ".CodeMirror{\n",
       "        font-family: \"PT Mono\";\n",
       "        font-size: 100%;\n",
       "}\n",
       "\n",
       "</style>\n"
      ],
      "text/plain": [
       "<IPython.core.display.HTML object>"
      ]
     },
     "execution_count": 2,
     "metadata": {},
     "output_type": "execute_result"
    }
   ],
   "source": [
    "import oenotebook as oenb"
   ]
  },
  {
   "cell_type": "code",
   "execution_count": 3,
   "metadata": {},
   "outputs": [
    {
     "name": "stdout",
     "output_type": "stream",
     "text": [
      "Found valid license for OEChem\n",
      "Found valid license for OEDepict\n"
     ]
    }
   ],
   "source": [
    "oenb.license_check(silent=False)"
   ]
  },
  {
   "cell_type": "code",
   "execution_count": 4,
   "metadata": {},
   "outputs": [
    {
     "data": {
      "image/png": "[encoded data removed]",
      "text/plain": [
       "<IPython.core.display.Image object>"
      ]
     },
     "execution_count": 4,
     "metadata": {},
     "output_type": "execute_result"
    }
   ],
   "source": [
    "oenb.draw_smiles(\"CC(C)/C=C/CCCCC(=O)NCC1=CC(=C(C=C1)O)OC\")"
   ]
  }
 ],
 "metadata": {
  "kernelspec": {
   "display_name": "Python 3",
   "language": "python",
   "name": "python3"
  },
  "language_info": {
   "codemirror_mode": {
    "name": "ipython",
    "version": 3
   },
   "file_extension": ".py",
   "mimetype": "text/x-python",
   "name": "python",
   "nbconvert_exporter": "python",
   "pygments_lexer": "ipython3",
   "version": "3.5.2"
  },
  "widgets": {
   "state": {},
   "version": "1.1.1"
  }
 },
 "nbformat": 4,
 "nbformat_minor": 1
}
